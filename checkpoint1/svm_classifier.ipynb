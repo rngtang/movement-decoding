{
 "cells": [
  {
   "cell_type": "code",
   "execution_count": 1,
   "id": "fc7989db",
   "metadata": {},
   "outputs": [],
   "source": [
    "import pandas as pd\n",
    "import numpy as np\n",
    "from sklearn.svm import SVC\n",
    "from sklearn.metrics import accuracy_score"
   ]
  },
  {
   "cell_type": "markdown",
   "id": "8f96e993",
   "metadata": {},
   "source": [
    "### Load Data"
   ]
  },
  {
   "cell_type": "code",
   "execution_count": 2,
   "id": "af8ee28a",
   "metadata": {},
   "outputs": [],
   "source": [
    "# Load the data as numpy arrays\n",
    "img_1 = pd.read_csv('./../data/feaSubEImg_1.csv', header=None).to_numpy()\n",
    "img_2 = pd.read_csv('./../data/feaSubEImg_2.csv', header=None).to_numpy()\n",
    "overt_1 = pd.read_csv('./../data/feaSubEOvert_1.csv', header=None).to_numpy()\n",
    "overt_2 = pd.read_csv('./../data/feaSubEOvert_2.csv', header=None).to_numpy()"
   ]
  },
  {
   "cell_type": "markdown",
   "id": "bad430d9",
   "metadata": {},
   "source": [
    "### Baseline SVM function"
   ]
  },
  {
   "cell_type": "code",
   "execution_count": 3,
   "id": "4a81bfe2",
   "metadata": {},
   "outputs": [],
   "source": [
    "def train_baseline_svm(class1_data, class2_data, C=1.0):\n",
    "    # Stack and transpose data. Rows are trials, columns are features\n",
    "    X = np.hstack((class1_data, class2_data)).T\n",
    "    # Assigns a class label. 0 for first 120 rows, 1 for the next 120 rows\n",
    "    y = np.array([0] * class1_data.shape[1] + [1] * class2_data.shape[1])\n",
    "\n",
    "    # Train linear SVM\n",
    "    svm_model = SVC(C=C)\n",
    "    svm_model.fit(X, y)\n",
    "\n",
    "    # Get predictions and decision function\n",
    "    y_pred = svm_model.predict(X)\n",
    "    decision_scores = svm_model.decision_function(X)\n",
    "    accuracy = accuracy_score(y, y_pred)\n",
    "\n",
    "    return svm_model, X, y, y_pred, decision_scores, accuracy"
   ]
  },
  {
   "cell_type": "code",
   "execution_count": 4,
   "id": "541d959a",
   "metadata": {},
   "outputs": [
    {
     "name": "stdout",
     "output_type": "stream",
     "text": [
      "Training accuracy (no CV): 0.99\n"
     ]
    }
   ],
   "source": [
    "svm_model, X_overt, y_overt, y_pred, decision_scores, acc = train_baseline_svm(overt_1, overt_2)\n",
    "print(f\"Training accuracy (no CV): {acc:.2f}\")"
   ]
  }
 ],
 "metadata": {
  "kernelspec": {
   "display_name": ".venv",
   "language": "python",
   "name": "python3"
  },
  "language_info": {
   "codemirror_mode": {
    "name": "ipython",
    "version": 3
   },
   "file_extension": ".py",
   "mimetype": "text/x-python",
   "name": "python",
   "nbconvert_exporter": "python",
   "pygments_lexer": "ipython3",
   "version": "3.13.2"
  }
 },
 "nbformat": 4,
 "nbformat_minor": 5
}
