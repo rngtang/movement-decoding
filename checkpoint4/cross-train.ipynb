{
 "cells": [
  {
   "cell_type": "code",
   "execution_count": 3,
   "id": "4b904f59",
   "metadata": {},
   "outputs": [],
   "source": [
    "from sklearn.svm import SVC\n",
    "from sklearn.metrics import accuracy_score\n",
    "import pandas as pd\n",
    "import numpy as np"
   ]
  },
  {
   "cell_type": "markdown",
   "id": "e2817900",
   "metadata": {},
   "source": [
    "### Load Data"
   ]
  },
  {
   "cell_type": "code",
   "execution_count": 4,
   "id": "b0fb82c9",
   "metadata": {},
   "outputs": [],
   "source": [
    "# Load the data as numpy arrays\n",
    "img_1 = pd.read_csv('./../data/feaSubEImg_1.csv', header=None).to_numpy()\n",
    "img_2 = pd.read_csv('./../data/feaSubEImg_2.csv', header=None).to_numpy()\n",
    "overt_1 = pd.read_csv('./../data/feaSubEOvert_1.csv', header=None).to_numpy()\n",
    "overt_2 = pd.read_csv('./../data/feaSubEOvert_2.csv', header=None).to_numpy()"
   ]
  },
  {
   "cell_type": "code",
   "execution_count": 5,
   "id": "45ffe823",
   "metadata": {},
   "outputs": [],
   "source": [
    "# Combine the features\n",
    "img_X = np.hstack((img_1, img_2)).T\n",
    "img_y = np.array([0] * img_1.shape[1] + [1] * img_2.shape[1])\n",
    "\n",
    "overt_X = np.hstack((overt_1, overt_2)).T\n",
    "overt_y = np.array([0] * overt_1.shape[1] + [1] * overt_2.shape[1])"
   ]
  },
  {
   "cell_type": "markdown",
   "id": "8b87ae45",
   "metadata": {},
   "source": [
    "### Cross-Train function"
   ]
  },
  {
   "cell_type": "code",
   "execution_count": null,
   "id": "8588b46a",
   "metadata": {},
   "outputs": [],
   "source": [
    "def cross_train_test(train_X, train_y, test_X, test_y, C_value, title_prefix=\"\"):\n",
    "    # Train SVM\n",
    "    model = SVC(kernel='linear', C=C_value)\n",
    "    model.fit(train_X, train_y)\n",
    "\n",
    "    # Predict and get decision function\n",
    "    y_pred = model.predict(test_X)\n",
    "    decision_scores = model.decision_function(test_X)\n",
    "\n",
    "    # Accuracy\n",
    "    acc = accuracy_score(test_y, y_pred)\n",
    "\n",
    "    # Plot ROC\n",
    "    plot_roc_curve(test_y, decision_scores, title=f\"{title_prefix} ROC Curve\")\n",
    "\n",
    "    return acc"
   ]
  }
 ],
 "metadata": {
  "kernelspec": {
   "display_name": ".venv",
   "language": "python",
   "name": "python3"
  },
  "language_info": {
   "codemirror_mode": {
    "name": "ipython",
    "version": 3
   },
   "file_extension": ".py",
   "mimetype": "text/x-python",
   "name": "python",
   "nbconvert_exporter": "python",
   "pygments_lexer": "ipython3",
   "version": "3.13.2"
  }
 },
 "nbformat": 4,
 "nbformat_minor": 5
}
