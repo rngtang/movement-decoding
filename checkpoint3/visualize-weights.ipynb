{
 "cells": [
  {
   "cell_type": "code",
   "execution_count": 1,
   "id": "1513ed2e",
   "metadata": {},
   "outputs": [],
   "source": [
    "from sklearn.model_selection import StratifiedKFold\n",
    "from sklearn.svm import SVC\n",
    "from sklearn.metrics import accuracy_score\n",
    "from sklearn.metrics import roc_curve, auc\n",
    "import matplotlib.pyplot as plt\n",
    "import numpy as np\n",
    "import pandas as pd"
   ]
  },
  {
   "cell_type": "markdown",
   "id": "016c7dee",
   "metadata": {},
   "source": [
    "### Load Data"
   ]
  },
  {
   "cell_type": "code",
   "execution_count": 2,
   "id": "81108fb0",
   "metadata": {},
   "outputs": [],
   "source": [
    "# Load the data as numpy arrays\n",
    "img_1 = pd.read_csv('./../data/feaSubEImg_1.csv', header=None).to_numpy()\n",
    "img_2 = pd.read_csv('./../data/feaSubEImg_2.csv', header=None).to_numpy()\n",
    "overt_1 = pd.read_csv('./../data/feaSubEOvert_1.csv', header=None).to_numpy()\n",
    "overt_2 = pd.read_csv('./../data/feaSubEOvert_2.csv', header=None).to_numpy()"
   ]
  },
  {
   "cell_type": "code",
   "execution_count": 3,
   "id": "e1c6eb95",
   "metadata": {},
   "outputs": [],
   "source": [
    "# Combine the features\n",
    "img_X = np.hstack((img_1, img_2)).T\n",
    "img_y = np.array([0] * img_1.shape[1] + [1] * img_2.shape[1])\n",
    "\n",
    "overt_X = np.hstack((overt_1, overt_2)).T\n",
    "overt_y = np.array([0] * overt_1.shape[1] + [1] * overt_2.shape[1])"
   ]
  },
  {
   "cell_type": "markdown",
   "id": "15ca07ca",
   "metadata": {},
   "source": [
    "### Plot ROC"
   ]
  },
  {
   "cell_type": "code",
   "execution_count": null,
   "id": "9d095dc2",
   "metadata": {},
   "outputs": [],
   "source": []
  }
 ],
 "metadata": {
  "kernelspec": {
   "display_name": ".venv",
   "language": "python",
   "name": "python3"
  },
  "language_info": {
   "codemirror_mode": {
    "name": "ipython",
    "version": 3
   },
   "file_extension": ".py",
   "mimetype": "text/x-python",
   "name": "python",
   "nbconvert_exporter": "python",
   "pygments_lexer": "ipython3",
   "version": "3.13.2"
  }
 },
 "nbformat": 4,
 "nbformat_minor": 5
}
