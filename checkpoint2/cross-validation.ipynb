{
 "cells": [
  {
   "cell_type": "code",
   "execution_count": 21,
   "id": "a38c9684",
   "metadata": {},
   "outputs": [],
   "source": [
    "from sklearn.model_selection import StratifiedKFold\n",
    "from sklearn.svm import SVC\n",
    "from sklearn.metrics import accuracy_score\n",
    "import numpy as np\n",
    "import pandas as pd"
   ]
  },
  {
   "cell_type": "markdown",
   "id": "5bd03fab",
   "metadata": {},
   "source": [
    "### Load Data"
   ]
  },
  {
   "cell_type": "code",
   "execution_count": 22,
   "id": "f0b7e57e",
   "metadata": {},
   "outputs": [],
   "source": [
    "# Load the data as numpy arrays\n",
    "img_1 = pd.read_csv('./../data/feaSubEImg_1.csv', header=None).to_numpy()\n",
    "img_2 = pd.read_csv('./../data/feaSubEImg_2.csv', header=None).to_numpy()\n",
    "overt_1 = pd.read_csv('./../data/feaSubEOvert_1.csv', header=None).to_numpy()\n",
    "overt_2 = pd.read_csv('./../data/feaSubEOvert_2.csv', header=None).to_numpy()"
   ]
  },
  {
   "cell_type": "code",
   "execution_count": 23,
   "id": "7a39d7d8",
   "metadata": {},
   "outputs": [],
   "source": [
    "# Combine the features\n",
    "img_X = np.hstack((img_1, img_2)).T\n",
    "img_y = np.array([0] * img_1.shape[1] + [1] * img_2.shape[1])\n",
    "\n",
    "overt_X = np.hstack((overt_1, overt_2)).T\n",
    "overt_y = np.array([0] * overt_1.shape[1] + [1] * overt_2.shape[1])"
   ]
  },
  {
   "cell_type": "markdown",
   "id": "bfed46b5",
   "metadata": {},
   "source": [
    "### Two-level Cross-validation function"
   ]
  },
  {
   "cell_type": "code",
   "execution_count": null,
   "id": "e75a2f52",
   "metadata": {},
   "outputs": [],
   "source": [
    "# Inner cross-validation\n",
    "def inner_cv(X_train, y_train, C_values=[0.01, 1, 100, 10000], n_splits=5):\n",
    "    # Stratified K-Fold cross-validation\n",
    "    skf = StratifiedKFold(n_splits=n_splits, shuffle=True)\n",
    "    val_accuracies = {C: [] for C in C_values}\n",
    "\n",
    "    # Iterate through each fold\n",
    "    for train_idx, val_idx in skf.split(X_train, y_train):\n",
    "        # Get the data for the fold\n",
    "        X_inner_train, X_val = X_train[train_idx], X_train[val_idx]\n",
    "        y_inner_train, y_val = y_train[train_idx], y_train[val_idx]\n",
    "\n",
    "        # For each fold, train and evaluate the model for each C value\n",
    "        for C in C_values:\n",
    "            clf = SVC(kernel='linear', C=C)\n",
    "            clf.fit(X_inner_train, y_inner_train)\n",
    "            y_val_pred = clf.predict(X_val)\n",
    "            acc = accuracy_score(y_val, y_val_pred)\n",
    "            val_accuracies[C].append(acc)\n",
    "\n",
    "    avg_acc = {C: np.mean(accs) for C, accs in val_accuracies.items()}\n",
    "    best_C = max(avg_acc, key=avg_acc.get)\n",
    "    return best_C, val_accuracies"
   ]
  },
  {
   "cell_type": "code",
   "execution_count": 25,
   "id": "a4451693",
   "metadata": {},
   "outputs": [],
   "source": [
    "def two_level_cross_validation(X, y, outer_splits=6, inner_splits=5, C_values=[0.01, 1, 100, 10000]):\n",
    "    # Split the data into 6 folds\n",
    "    outer_skf = StratifiedKFold(n_splits=outer_splits, shuffle=True)\n",
    "\n",
    "    accuracies = []\n",
    "    best_Cs = []\n",
    "    y_true_all = []\n",
    "    y_pred_all = []\n",
    "    decision_scores_all = []\n",
    "\n",
    "    # Iterate through each outer fold\n",
    "    for fold_idx, (train_idx, test_idx) in enumerate(outer_skf.split(X, y)):\n",
    "        # Get the training and test data for the outer fold\n",
    "        X_train, X_test = X[train_idx], X[test_idx]\n",
    "        y_train, y_test = y[train_idx], y[test_idx]\n",
    "\n",
    "        # Inner CV to find best C\n",
    "        best_C, _ = inner_cv(X_train, y_train, C_values=C_values, n_splits=inner_splits)\n",
    "        best_Cs.append(best_C)\n",
    "\n",
    "        # Train final model on all outer training data using best C\n",
    "        model = SVC(kernel='linear', C=best_C)\n",
    "        model.fit(X_train, y_train)\n",
    "\n",
    "        # Evaluate on outer test fold\n",
    "        y_pred = model.predict(X_test)\n",
    "        decision_scores = model.decision_function(X_test)\n",
    "        acc = accuracy_score(y_test, y_pred)\n",
    "\n",
    "        # Store results\n",
    "        accuracies.append(acc)\n",
    "        y_true_all.extend(y_test)\n",
    "        y_pred_all.extend(y_pred)\n",
    "        decision_scores_all.extend(decision_scores)\n",
    "\n",
    "        print(f\"[Fold {fold_idx+1}] Accuracy: {acc:.2f}, Best C: {best_C}\")\n",
    "\n",
    "    return {\n",
    "        'accuracies': accuracies,\n",
    "        'best_Cs': best_Cs,\n",
    "        'y_true_all': np.array(y_true_all),\n",
    "        'y_pred_all': np.array(y_pred_all),\n",
    "        'decision_scores_all': np.array(decision_scores_all)\n",
    "    }"
   ]
  },
  {
   "cell_type": "code",
   "execution_count": 26,
   "id": "d471cef0",
   "metadata": {},
   "outputs": [
    {
     "name": "stdout",
     "output_type": "stream",
     "text": [
      "[Fold 1] Accuracy: 0.95, Best C: 0.01\n",
      "[Fold 2] Accuracy: 0.97, Best C: 0.01\n",
      "[Fold 3] Accuracy: 0.95, Best C: 0.01\n",
      "[Fold 4] Accuracy: 0.93, Best C: 0.01\n",
      "[Fold 5] Accuracy: 0.97, Best C: 0.01\n",
      "[Fold 6] Accuracy: 0.97, Best C: 0.01\n",
      "\n",
      "Average outer CV accuracy: 0.9583333333333331\n",
      "Best C values per fold: [0.01, 0.01, 0.01, 0.01, 0.01, 0.01]\n"
     ]
    }
   ],
   "source": [
    "results = two_level_cross_validation(overt_X, overt_y)\n",
    "\n",
    "print(\"\\nAverage outer CV accuracy:\", np.mean(results['accuracies']))\n",
    "print(\"Best C values per fold:\", results['best_Cs'])"
   ]
  }
 ],
 "metadata": {
  "kernelspec": {
   "display_name": ".venv",
   "language": "python",
   "name": "python3"
  },
  "language_info": {
   "codemirror_mode": {
    "name": "ipython",
    "version": 3
   },
   "file_extension": ".py",
   "mimetype": "text/x-python",
   "name": "python",
   "nbconvert_exporter": "python",
   "pygments_lexer": "ipython3",
   "version": "3.13.2"
  }
 },
 "nbformat": 4,
 "nbformat_minor": 5
}
