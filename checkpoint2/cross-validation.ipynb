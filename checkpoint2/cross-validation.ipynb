{
 "cells": [
  {
   "cell_type": "code",
   "execution_count": 1,
   "id": "a38c9684",
   "metadata": {},
   "outputs": [],
   "source": [
    "from sklearn.model_selection import StratifiedKFold\n",
    "from sklearn.svm import SVC\n",
    "from sklearn.metrics import accuracy_score\n",
    "import numpy as np\n",
    "import pandas as pd"
   ]
  },
  {
   "cell_type": "markdown",
   "id": "5bd03fab",
   "metadata": {},
   "source": [
    "### Load Data"
   ]
  },
  {
   "cell_type": "code",
   "execution_count": 2,
   "id": "f0b7e57e",
   "metadata": {},
   "outputs": [],
   "source": [
    "# Load the data as numpy arrays\n",
    "img_1 = pd.read_csv('./../data/feaSubEImg_1.csv', header=None).to_numpy()\n",
    "img_2 = pd.read_csv('./../data/feaSubEImg_2.csv', header=None).to_numpy()\n",
    "overt_1 = pd.read_csv('./../data/feaSubEOvert_1.csv', header=None).to_numpy()\n",
    "overt_2 = pd.read_csv('./../data/feaSubEOvert_2.csv', header=None).to_numpy()"
   ]
  },
  {
   "cell_type": "code",
   "execution_count": 3,
   "id": "7a39d7d8",
   "metadata": {},
   "outputs": [],
   "source": [
    "# Combine the features\n",
    "img_X = np.hstack((img_1, img_2)).T\n",
    "img_y = np.array([0] * img_1.shape[1] + [1] * img_2.shape[1])\n",
    "\n",
    "overt_X = np.hstack((overt_1, overt_2)).T\n",
    "overt_y = np.array([0] * overt_1.shape[1] + [1] * overt_2.shape[1])"
   ]
  },
  {
   "cell_type": "markdown",
   "id": "bfed46b5",
   "metadata": {},
   "source": [
    "### Two-level Cross-validation function"
   ]
  },
  {
   "cell_type": "code",
   "execution_count": 4,
   "id": "e75a2f52",
   "metadata": {},
   "outputs": [],
   "source": [
    "# Inner cross-validation\n",
    "def inner_cv(X_train, y_train, C_values=[0.01, 1, 100, 10000], n_splits=5):\n",
    "    \"\"\"\n",
    "    Perform inner 5-fold cross-validation to find the best regularization parameter C.\n",
    "\n",
    "    Parameters:\n",
    "        X_train (np.ndarray): Training data (samples x features)\n",
    "        y_train (np.ndarray): Labels (0 or 1)\n",
    "        C_values (list): List of C values to try\n",
    "        n_splits (int): Number of folds for inner CV\n",
    "\n",
    "    Returns:\n",
    "        best_C (float): The value of C with the highest average validation accuracy\n",
    "        val_accuracies (dict): Mapping of C → list of validation accuracies\n",
    "    \"\"\"\n",
    "    skf = StratifiedKFold(n_splits=n_splits, shuffle=True)\n",
    "    val_accuracies = {C: [] for C in C_values}\n",
    "\n",
    "    for train_idx, val_idx in skf.split(X_train, y_train):\n",
    "        X_inner_train, X_val = X_train[train_idx], X_train[val_idx]\n",
    "        y_inner_train, y_val = y_train[train_idx], y_train[val_idx]\n",
    "\n",
    "        for C in C_values:\n",
    "            clf = SVC(kernel='linear', C=C)\n",
    "            clf.fit(X_inner_train, y_inner_train)\n",
    "            y_val_pred = clf.predict(X_val)\n",
    "            acc = accuracy_score(y_val, y_val_pred)\n",
    "            val_accuracies[C].append(acc)\n",
    "\n",
    "    # Average accuracy for each C\n",
    "    avg_acc = {C: np.mean(accs) for C, accs in val_accuracies.items()}\n",
    "    best_C = max(avg_acc, key=avg_acc.get)\n",
    "\n",
    "    return best_C, val_accuracies"
   ]
  },
  {
   "cell_type": "code",
   "execution_count": 5,
   "id": "a4451693",
   "metadata": {},
   "outputs": [],
   "source": [
    "def two_level_cross_validation(X, y, outer_splits=6, inner_splits=5, C_values=[0.01, 1, 100, 10000]):\n",
    "    \"\"\"\n",
    "    Performs two-level cross-validation:\n",
    "    - Outer loop evaluates generalization performance (6-fold)\n",
    "    - Inner loop tunes regularization parameter C (5-fold)\n",
    "\n",
    "    Parameters:\n",
    "        X (np.ndarray): (N, 204) feature matrix (trials x features)\n",
    "        y (np.ndarray): (N,) label vector (0s and 1s)\n",
    "        outer_splits (int): Number of outer folds (default=6)\n",
    "        inner_splits (int): Number of inner folds (default=5)\n",
    "        C_values (list): Regularization parameters to search over\n",
    "\n",
    "    Returns:\n",
    "        results (dict): {\n",
    "            'accuracies': list of 6 outer test accuracies,\n",
    "            'best_Cs': best C for each outer fold,\n",
    "            'y_true_all': all test set labels (concatenated),\n",
    "            'y_pred_all': all predicted labels,\n",
    "            'decision_scores_all': all decision function values\n",
    "        }\n",
    "    \"\"\"\n",
    "    # Splits data into 6 folds\n",
    "    outer_skf = StratifiedKFold(n_splits=outer_splits, shuffle=True)\n",
    "\n",
    "    accuracies = []\n",
    "    best_Cs = []\n",
    "    y_true_all = []\n",
    "    y_pred_all = []\n",
    "    decision_scores_all = []\n",
    "\n",
    "    # Outer CV loop. Iterate over each fold\n",
    "    for fold_idx, (train_idx, test_idx) in enumerate(outer_skf.split(X, y)):\n",
    "        # Split data into outer train and test sets\n",
    "        X_train_outer, X_test_outer = X[train_idx], X[test_idx]\n",
    "        y_train_outer, y_test_outer = y[train_idx], y[test_idx]\n",
    "\n",
    "        # Inner CV loop to select best C\n",
    "        best_C, _ = inner_cv(X_train_outer, y_train_outer, C_values=C_values, n_splits=inner_splits)\n",
    "        best_Cs.append(best_C)\n",
    "\n",
    "        # Train final model on full outer train set using best C\n",
    "        model = SVC(kernel='linear', C=best_C)\n",
    "        model.fit(X_train_outer, y_train_outer)\n",
    "\n",
    "        # Evaluate on outer test set\n",
    "        y_pred = model.predict(X_test_outer)\n",
    "        decision_scores = model.decision_function(X_test_outer)\n",
    "        acc = accuracy_score(y_test_outer, y_pred)\n",
    "\n",
    "        # Save results\n",
    "        accuracies.append(acc)\n",
    "        y_true_all.extend(y_test_outer)\n",
    "        y_pred_all.extend(y_pred)\n",
    "        decision_scores_all.extend(decision_scores)\n",
    "\n",
    "        print(f\"[Fold {fold_idx+1}] Accuracy: {acc:.2f}, Best C: {best_C}\")\n",
    "\n",
    "    results = {\n",
    "        'accuracies': accuracies,\n",
    "        'best_Cs': best_Cs,\n",
    "        'y_true_all': np.array(y_true_all),\n",
    "        'y_pred_all': np.array(y_pred_all),\n",
    "        'decision_scores_all': np.array(decision_scores_all)\n",
    "    }\n",
    "\n",
    "    return results"
   ]
  }
 ],
 "metadata": {
  "kernelspec": {
   "display_name": ".venv",
   "language": "python",
   "name": "python3"
  },
  "language_info": {
   "codemirror_mode": {
    "name": "ipython",
    "version": 3
   },
   "file_extension": ".py",
   "mimetype": "text/x-python",
   "name": "python",
   "nbconvert_exporter": "python",
   "pygments_lexer": "ipython3",
   "version": "3.13.2"
  }
 },
 "nbformat": 4,
 "nbformat_minor": 5
}
